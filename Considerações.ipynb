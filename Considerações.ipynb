{
 "cells": [
  {
   "cell_type": "markdown",
   "metadata": {},
   "source": [
    "## Considerações"
   ]
  },
  {
   "cell_type": "markdown",
   "metadata": {},
   "source": [
    "- Foram utilizadas dois modelos o VGG16 e o MobileNet ambos com data augmentation."
   ]
  },
  {
   "cell_type": "markdown",
   "metadata": {},
   "source": [
    "- Para o MobileNet foram testados parâmetros diferentes no data augmentation. E pode-se observar a influência desses parâmetros nos valores do modelo.\n",
    "- Pode-se observar que para o MobileNet com menos parâmetros mexidos no data augmentation o valor da acurácia foi melhor quando comparado àquele com mais parâmetros."
   ]
  },
  {
   "cell_type": "markdown",
   "metadata": {},
   "source": [
    "- O gráfico abaixo mostra o resultado utilizando o MobileNet com 50 epochs. Para visualizar os parâmetros utilizados no modelo e no data augmentation, por favor recorra ao arquivo \"Projeto-RNN_MobileNet\""
   ]
  },
  {
   "cell_type": "markdown",
   "metadata": {},
   "source": [
    "![](https://i.imgur.com/arcygpH.png)"
   ]
  },
  {
   "cell_type": "markdown",
   "metadata": {},
   "source": [
    "- O gráfico da direita sugere que o ocorre underfitting em algumas epochs (até por volta da 30ª) uma vez que os erros de treino e validação estão bem próximos.\n",
    "- Nota-se que ao treinar o modelo em mais epochs, esse underfitting vai aos poucos desaparecendo."
   ]
  },
  {
   "cell_type": "markdown",
   "metadata": {},
   "source": [
    "- O gráfico abaixo mostra o resultado utilizando o Vgg16 com 50 epochs. Para visualizar os parâmetros utilizados no modelo e no data augmentation, por favor recorra ao arquivo \"Projeto-RNN\""
   ]
  },
  {
   "cell_type": "markdown",
   "metadata": {},
   "source": [
    "![](https://i.imgur.com/5ZwCG2V.png)"
   ]
  },
  {
   "cell_type": "markdown",
   "metadata": {},
   "source": [
    "- Pode-se observar que o modelo não sofre underfitting e nem overfitting."
   ]
  },
  {
   "cell_type": "markdown",
   "metadata": {},
   "source": [
    "- Quando comparamos os resultados de ambos modelos, nota-se que ao final das 50 epochs o MobileNet apresenta valores de acurácia ligeiramente maiores que os do VGG16 (Acurácia VGG16: 0.8703, Acurácia MobileNet: 0.8953).\n",
    "- O MobileNet mostrou ser um modelo mais rápido que o VGG16, uma vez que o mesmo variou entre 123 segundos e 180 segundos por epoch; enquanto que o VGG16 levou entre 228 segundos e 478 segundos por epoch.\n",
    "- Apesar do MobileNet ser mais rápido e apresentar melhor acurácia, para que não tivessemos problemas de underfitting o mesmo precisa ser rodado com mais epochs, coisa que já não é necessária no VGG16.\n",
    "- Os parametros usados no Data Augmentation em ambos modelos foram diferentes, isso leva a crer que cada modelo possui os parâmetros ideais no data augmentation que podem vir a retornar melhores valores de acurácia."
   ]
  }
 ],
 "metadata": {
  "kernelspec": {
   "display_name": "Python 3.9.7 ('base')",
   "language": "python",
   "name": "python3"
  },
  "language_info": {
   "name": "python",
   "version": "3.9.7"
  },
  "orig_nbformat": 4,
  "vscode": {
   "interpreter": {
    "hash": "ad2bdc8ecc057115af97d19610ffacc2b4e99fae6737bb82f5d7fb13d2f2c186"
   }
  }
 },
 "nbformat": 4,
 "nbformat_minor": 2
}
