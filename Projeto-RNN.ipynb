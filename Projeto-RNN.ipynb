{
 "cells": [
  {
   "cell_type": "code",
   "execution_count": 1,
   "id": "cba8bc45-8670-4ea8-94f3-b1e796686fde",
   "metadata": {},
   "outputs": [],
   "source": [
    "# !pip install tensorflow"
   ]
  },
  {
   "cell_type": "code",
   "execution_count": 2,
   "id": "e69da9f3-cc46-4618-bb74-215b0890a369",
   "metadata": {},
   "outputs": [],
   "source": [
    "# !pip install tensorflow graphviz pydot"
   ]
  },
  {
   "cell_type": "code",
   "execution_count": 12,
   "id": "5c75b40d-8087-48c2-93bf-95dcc7b7f0d2",
   "metadata": {},
   "outputs": [],
   "source": [
    "import zipfile\n",
    "with zipfile.ZipFile('./skin-cancer-malignant-vs-benign.zip','r') as zip_ref:\n",
    "    zip_ref.extractall('./skin_cancer')"
   ]
  },
  {
   "cell_type": "code",
   "execution_count": 13,
   "id": "f6775ae4-4608-4617-ac02-cddef321984a",
   "metadata": {},
   "outputs": [
    {
     "name": "stdout",
     "output_type": "stream",
     "text": [
      "Downloading data from https://storage.googleapis.com/tensorflow/keras-applications/vgg16/vgg16_weights_tf_dim_ordering_tf_kernels_notop.h5\n",
      "58889256/58889256 [==============================] - 2s 0us/step\n",
      "Model: \"vgg16\"\n",
      "_________________________________________________________________\n",
      " Layer (type)                Output Shape              Param #   \n",
      "=================================================================\n",
      " input_3 (InputLayer)        [(None, 150, 150, 3)]     0         \n",
      "                                                                 \n",
      " block1_conv1 (Conv2D)       (None, 150, 150, 64)      1792      \n",
      "                                                                 \n",
      " block1_conv2 (Conv2D)       (None, 150, 150, 64)      36928     \n",
      "                                                                 \n",
      " block1_pool (MaxPooling2D)  (None, 75, 75, 64)        0         \n",
      "                                                                 \n",
      " block2_conv1 (Conv2D)       (None, 75, 75, 128)       73856     \n",
      "                                                                 \n",
      " block2_conv2 (Conv2D)       (None, 75, 75, 128)       147584    \n",
      "                                                                 \n",
      " block2_pool (MaxPooling2D)  (None, 37, 37, 128)       0         \n",
      "                                                                 \n",
      " block3_conv1 (Conv2D)       (None, 37, 37, 256)       295168    \n",
      "                                                                 \n",
      " block3_conv2 (Conv2D)       (None, 37, 37, 256)       590080    \n",
      "                                                                 \n",
      " block3_conv3 (Conv2D)       (None, 37, 37, 256)       590080    \n",
      "                                                                 \n",
      " block3_pool (MaxPooling2D)  (None, 18, 18, 256)       0         \n",
      "                                                                 \n",
      " block4_conv1 (Conv2D)       (None, 18, 18, 512)       1180160   \n",
      "                                                                 \n",
      " block4_conv2 (Conv2D)       (None, 18, 18, 512)       2359808   \n",
      "                                                                 \n",
      " block4_conv3 (Conv2D)       (None, 18, 18, 512)       2359808   \n",
      "                                                                 \n",
      " block4_pool (MaxPooling2D)  (None, 9, 9, 512)         0         \n",
      "                                                                 \n",
      " block5_conv1 (Conv2D)       (None, 9, 9, 512)         2359808   \n",
      "                                                                 \n",
      " block5_conv2 (Conv2D)       (None, 9, 9, 512)         2359808   \n",
      "                                                                 \n",
      " block5_conv3 (Conv2D)       (None, 9, 9, 512)         2359808   \n",
      "                                                                 \n",
      " block5_pool (MaxPooling2D)  (None, 4, 4, 512)         0         \n",
      "                                                                 \n",
      "=================================================================\n",
      "Total params: 14,714,688\n",
      "Trainable params: 14,714,688\n",
      "Non-trainable params: 0\n",
      "_________________________________________________________________\n"
     ]
    }
   ],
   "source": [
    "import os\n",
    "from tensorflow.keras.applications.vgg16 import VGG16, preprocess_input\n",
    "from tensorflow.keras import Input, Sequential\n",
    "from tensorflow.keras.layers import Dense, Flatten, GlobalAveragePooling2D\n",
    "from tensorflow.keras.preprocessing.image import ImageDataGenerator\n",
    "\n",
    "pretreined_model = VGG16(\n",
    "    weights='imagenet',\n",
    "    input_shape=(150, 150, 3),\n",
    "    include_top=False\n",
    "    )\n",
    "pretreined_model.summary()"
   ]
  },
  {
   "cell_type": "code",
   "execution_count": 14,
   "id": "4009c0ac-ab3e-4855-9d48-e04e887a7cc6",
   "metadata": {},
   "outputs": [
    {
     "name": "stdout",
     "output_type": "stream",
     "text": [
      "Model: \"sequential_2\"\n",
      "_________________________________________________________________\n",
      " Layer (type)                Output Shape              Param #   \n",
      "=================================================================\n",
      " vgg16 (Functional)          (None, 4, 4, 512)         14714688  \n",
      "                                                                 \n",
      " flatten_2 (Flatten)         (None, 8192)              0         \n",
      "                                                                 \n",
      " dense_4 (Dense)             (None, 256)               2097408   \n",
      "                                                                 \n",
      " dense_5 (Dense)             (None, 1)                 257       \n",
      "                                                                 \n",
      "=================================================================\n",
      "Total params: 16,812,353\n",
      "Trainable params: 16,812,353\n",
      "Non-trainable params: 0\n",
      "_________________________________________________________________\n"
     ]
    }
   ],
   "source": [
    "model = Sequential()\n",
    "model.add(pretreined_model)\n",
    "model.add(Flatten())\n",
    "model.add(Dense(256, activation='relu'))\n",
    "model.add(Dense(1, activation='sigmoid'))\n",
    "\n",
    "model.summary()"
   ]
  },
  {
   "cell_type": "code",
   "execution_count": 15,
   "id": "87c90202-1198-400e-91d6-5bb1dd623c80",
   "metadata": {},
   "outputs": [],
   "source": [
    "pretreined_model.trainable = False"
   ]
  },
  {
   "cell_type": "code",
   "execution_count": 16,
   "id": "d818d320-ae5d-4866-8040-c31327124b00",
   "metadata": {},
   "outputs": [
    {
     "name": "stdout",
     "output_type": "stream",
     "text": [
      "Model: \"sequential_2\"\n",
      "_________________________________________________________________\n",
      " Layer (type)                Output Shape              Param #   \n",
      "=================================================================\n",
      " vgg16 (Functional)          (None, 4, 4, 512)         14714688  \n",
      "                                                                 \n",
      " flatten_2 (Flatten)         (None, 8192)              0         \n",
      "                                                                 \n",
      " dense_4 (Dense)             (None, 256)               2097408   \n",
      "                                                                 \n",
      " dense_5 (Dense)             (None, 1)                 257       \n",
      "                                                                 \n",
      "=================================================================\n",
      "Total params: 16,812,353\n",
      "Trainable params: 2,097,665\n",
      "Non-trainable params: 14,714,688\n",
      "_________________________________________________________________\n"
     ]
    }
   ],
   "source": [
    "model.summary()"
   ]
  },
  {
   "cell_type": "code",
   "execution_count": null,
   "id": "c92ec86f-e286-4472-b8f1-0d392dba7964",
   "metadata": {},
   "outputs": [
    {
     "name": "stdout",
     "output_type": "stream",
     "text": [
      "Found 2637 images belonging to 2 classes.\n",
      "Found 660 images belonging to 2 classes.\n",
      "Epoch 1/50\n",
      "83/83 [==============================] - 229s 3s/step - loss: 0.7329 - accuracy: 0.7103 - val_loss: 0.5536 - val_accuracy: 0.7470\n",
      "Epoch 2/50\n",
      "83/83 [==============================] - 228s 3s/step - loss: 0.4704 - accuracy: 0.7766 - val_loss: 0.4077 - val_accuracy: 0.8242\n",
      "Epoch 3/50\n",
      "83/83 [==============================] - 228s 3s/step - loss: 0.4412 - accuracy: 0.7937 - val_loss: 0.4243 - val_accuracy: 0.7864\n",
      "Epoch 4/50\n",
      "83/83 [==============================] - 232s 3s/step - loss: 0.3919 - accuracy: 0.8172 - val_loss: 0.6871 - val_accuracy: 0.6955\n",
      "Epoch 5/50\n",
      "83/83 [==============================] - 298s 4s/step - loss: 0.4006 - accuracy: 0.8130 - val_loss: 0.3615 - val_accuracy: 0.8167\n",
      "Epoch 6/50\n",
      "83/83 [==============================] - 438s 5s/step - loss: 0.3850 - accuracy: 0.8203 - val_loss: 0.4113 - val_accuracy: 0.7939\n",
      "Epoch 7/50\n",
      "83/83 [==============================] - 431s 5s/step - loss: 0.3714 - accuracy: 0.8233 - val_loss: 0.3670 - val_accuracy: 0.8212\n",
      "Epoch 8/50\n",
      "83/83 [==============================] - 426s 5s/step - loss: 0.3674 - accuracy: 0.8218 - val_loss: 0.4026 - val_accuracy: 0.8061\n",
      "Epoch 9/50\n",
      "83/83 [==============================] - 417s 5s/step - loss: 0.3612 - accuracy: 0.8267 - val_loss: 0.3501 - val_accuracy: 0.8258\n",
      "Epoch 10/50\n",
      "83/83 [==============================] - 408s 5s/step - loss: 0.3559 - accuracy: 0.8312 - val_loss: 0.3541 - val_accuracy: 0.8273\n",
      "Epoch 11/50\n",
      "83/83 [==============================] - 422s 5s/step - loss: 0.3441 - accuracy: 0.8328 - val_loss: 0.4331 - val_accuracy: 0.7939\n",
      "Epoch 12/50\n",
      "83/83 [==============================] - 383s 5s/step - loss: 0.3489 - accuracy: 0.8358 - val_loss: 0.3837 - val_accuracy: 0.8303\n",
      "Epoch 13/50\n",
      "83/83 [==============================] - 429s 5s/step - loss: 0.3480 - accuracy: 0.8354 - val_loss: 0.3995 - val_accuracy: 0.8121\n",
      "Epoch 14/50\n",
      "83/83 [==============================] - 428s 5s/step - loss: 0.3399 - accuracy: 0.8335 - val_loss: 0.3999 - val_accuracy: 0.8015\n",
      "Epoch 16/50\n",
      "83/83 [==============================] - 449s 5s/step - loss: 0.3366 - accuracy: 0.8434 - val_loss: 0.3698 - val_accuracy: 0.8136\n",
      "Epoch 17/50\n",
      "83/83 [==============================] - 394s 5s/step - loss: 0.3341 - accuracy: 0.8457 - val_loss: 0.4221 - val_accuracy: 0.8167\n",
      "Epoch 18/50\n",
      "83/83 [==============================] - 426s 5s/step - loss: 0.3293 - accuracy: 0.8400 - val_loss: 0.4483 - val_accuracy: 0.8152\n",
      "Epoch 19/50\n",
      "83/83 [==============================] - 423s 5s/step - loss: 0.3276 - accuracy: 0.8377 - val_loss: 0.3501 - val_accuracy: 0.8455\n",
      "Epoch 20/50\n",
      "83/83 [==============================] - 426s 5s/step - loss: 0.3194 - accuracy: 0.8476 - val_loss: 0.3552 - val_accuracy: 0.8424\n",
      "Epoch 21/50\n",
      "83/83 [==============================] - 406s 5s/step - loss: 0.3199 - accuracy: 0.8521 - val_loss: 0.3628 - val_accuracy: 0.8333\n",
      "Epoch 22/50\n",
      "83/83 [==============================] - 404s 5s/step - loss: 0.3194 - accuracy: 0.8457 - val_loss: 0.3891 - val_accuracy: 0.8288\n",
      "Epoch 23/50\n",
      "83/83 [==============================] - 410s 5s/step - loss: 0.3242 - accuracy: 0.8483 - val_loss: 0.3612 - val_accuracy: 0.8394\n",
      "Epoch 24/50\n",
      "83/83 [==============================] - 478s 6s/step - loss: 0.3223 - accuracy: 0.8525 - val_loss: 0.4018 - val_accuracy: 0.8136\n",
      "Epoch 25/50\n",
      "83/83 [==============================] - 464s 6s/step - loss: 0.3139 - accuracy: 0.8502 - val_loss: 0.3580 - val_accuracy: 0.8379\n",
      "Epoch 26/50\n",
      "83/83 [==============================] - 432s 5s/step - loss: 0.3251 - accuracy: 0.8479 - val_loss: 0.3940 - val_accuracy: 0.8121\n",
      "Epoch 27/50\n",
      "83/83 [==============================] - 396s 5s/step - loss: 0.3036 - accuracy: 0.8525 - val_loss: 0.3718 - val_accuracy: 0.8364\n",
      "Epoch 28/50\n",
      "83/83 [==============================] - 407s 5s/step - loss: 0.3212 - accuracy: 0.8597 - val_loss: 0.3646 - val_accuracy: 0.8364\n",
      "Epoch 29/50\n",
      "83/83 [==============================] - 422s 5s/step - loss: 0.3055 - accuracy: 0.8548 - val_loss: 0.3493 - val_accuracy: 0.8394\n",
      "Epoch 30/50\n",
      "83/83 [==============================] - 409s 5s/step - loss: 0.3083 - accuracy: 0.8623 - val_loss: 0.4094 - val_accuracy: 0.8258\n",
      "Epoch 31/50\n",
      "83/83 [==============================] - 407s 5s/step - loss: 0.3122 - accuracy: 0.8513 - val_loss: 0.3768 - val_accuracy: 0.8288\n",
      "Epoch 32/50\n",
      "83/83 [==============================] - 232s 3s/step - loss: 0.3091 - accuracy: 0.8567 - val_loss: 0.3552 - val_accuracy: 0.8348\n",
      "Epoch 33/50\n",
      "83/83 [==============================] - 231s 3s/step - loss: 0.3082 - accuracy: 0.8589 - val_loss: 0.4000 - val_accuracy: 0.8197\n",
      "Epoch 34/50\n",
      "83/83 [==============================] - 231s 3s/step - loss: 0.2987 - accuracy: 0.8635 - val_loss: 0.3554 - val_accuracy: 0.8333\n",
      "Epoch 35/50\n",
      "83/83 [==============================] - 232s 3s/step - loss: 0.3019 - accuracy: 0.8680 - val_loss: 0.3650 - val_accuracy: 0.8500\n",
      "Epoch 36/50\n",
      "83/83 [==============================] - 232s 3s/step - loss: 0.3065 - accuracy: 0.8532 - val_loss: 0.3831 - val_accuracy: 0.8182\n",
      "Epoch 37/50\n",
      "83/83 [==============================] - 231s 3s/step - loss: 0.3031 - accuracy: 0.8582 - val_loss: 0.3855 - val_accuracy: 0.8348\n",
      "Epoch 38/50\n",
      "83/83 [==============================] - 232s 3s/step - loss: 0.2902 - accuracy: 0.8627 - val_loss: 0.3606 - val_accuracy: 0.8364\n",
      "Epoch 39/50\n",
      "83/83 [==============================] - 231s 3s/step - loss: 0.2926 - accuracy: 0.8601 - val_loss: 0.4070 - val_accuracy: 0.8273\n",
      "Epoch 40/50\n",
      "83/83 [==============================] - 231s 3s/step - loss: 0.3050 - accuracy: 0.8627 - val_loss: 0.3530 - val_accuracy: 0.8576\n",
      "Epoch 41/50\n",
      "83/83 [==============================] - 231s 3s/step - loss: 0.2986 - accuracy: 0.8635 - val_loss: 0.3535 - val_accuracy: 0.8455\n",
      "Epoch 42/50\n",
      "83/83 [==============================] - 230s 3s/step - loss: 0.2912 - accuracy: 0.8631 - val_loss: 0.3728 - val_accuracy: 0.8394\n",
      "Epoch 43/50\n",
      "83/83 [==============================] - 231s 3s/step - loss: 0.2943 - accuracy: 0.8623 - val_loss: 0.4312 - val_accuracy: 0.8121\n",
      "Epoch 44/50\n",
      "83/83 [==============================] - 231s 3s/step - loss: 0.2953 - accuracy: 0.8574 - val_loss: 0.3638 - val_accuracy: 0.8530\n",
      "Epoch 45/50\n",
      "83/83 [==============================] - 231s 3s/step - loss: 0.2930 - accuracy: 0.8661 - val_loss: 0.4222 - val_accuracy: 0.8076\n",
      "Epoch 46/50\n",
      "83/83 [==============================] - 231s 3s/step - loss: 0.2854 - accuracy: 0.8665 - val_loss: 0.3637 - val_accuracy: 0.8439\n",
      "Epoch 47/50\n",
      "83/83 [==============================] - 231s 3s/step - loss: 0.2967 - accuracy: 0.8582 - val_loss: 0.3703 - val_accuracy: 0.8500\n",
      "Epoch 48/50\n",
      "83/83 [==============================] - 233s 3s/step - loss: 0.2793 - accuracy: 0.8764 - val_loss: 0.4009 - val_accuracy: 0.8227\n",
      "Epoch 49/50\n",
      "83/83 [==============================] - 231s 3s/step - loss: 0.2844 - accuracy: 0.8714 - val_loss: 0.3665 - val_accuracy: 0.8545\n",
      "Epoch 50/50\n",
      "83/83 [==============================] - 230s 3s/step - loss: 0.2883 - accuracy: 0.8703 - val_loss: 0.4800 - val_accuracy: 0.8106\n"
     ]
    }
   ],
   "source": [
    "train_datagen = ImageDataGenerator(\n",
    "    preprocessing_function = preprocess_input,\n",
    "    rescale=1./255,\n",
    "    rotation_range=40,\n",
    "    width_shift_range=0.2,\n",
    "    height_shift_range=0.2,\n",
    "    shear_range=0.2,\n",
    "    zoom_range=0.2,\n",
    "    horizontal_flip=True,\n",
    "    fill_mode='nearest'\n",
    ")\n",
    "\n",
    "validation_datagen = ImageDataGenerator(\n",
    "    preprocessing_function = preprocess_input,\n",
    "    rescale=1./255,\n",
    "    rotation_range=40,\n",
    "    width_shift_range=0.2,\n",
    "    height_shift_range=0.2,\n",
    "    shear_range=0.2,\n",
    "    zoom_range=0.2,\n",
    "    horizontal_flip=True,\n",
    "    fill_mode='nearest'\n",
    ")\n",
    "\n",
    "train_generator = train_datagen.flow_from_directory(\n",
    "    os.path.join('skin_cancer', 'train'),\n",
    "    target_size=(150, 150),\n",
    "    class_mode='binary'\n",
    ")\n",
    "\n",
    "validation_generator = validation_datagen.flow_from_directory(\n",
    "    os.path.join('skin_cancer', 'test'),\n",
    "    target_size=(150, 150),\n",
    "    class_mode='binary'\n",
    ")\n",
    "\n",
    "model.compile(loss='binary_crossentropy',\n",
    "    optimizer='rmsprop',\n",
    "    metrics=['accuracy'])\n",
    "\n",
    "history = model.fit(\n",
    "    train_generator,\n",
    "    epochs=50,\n",
    "    validation_data=validation_generator\n",
    ")"
   ]
  },
  {
   "cell_type": "code",
   "execution_count": null,
   "id": "f37ba83f-d7d2-496a-ac0b-403c170ab28a",
   "metadata": {},
   "outputs": [
    {
     "data": {
      "image/png": "[encoded data removed]",
      "text/plain": [
       "<Figure size 432x288 with 1 Axes>"
      ]
     },
     "metadata": {
      "needs_background": "light"
     },
     "output_type": "display_data"
    },
    {
     "data": {
      "image/png": "[encoded data removed]",
      "text/plain": [
       "<Figure size 432x288 with 1 Axes>"
      ]
     },
     "metadata": {
      "needs_background": "light"
     },
     "output_type": "display_data"
    }
   ],
   "source": [
    "plt.plot(history.history['accuracy'])\n",
    "plt.plot(history.history['val_accuracy'])\n",
    "plt.title('Model accuracy values')\n",
    "plt.ylabel('Accuracy')\n",
    "plt.xlabel('Epoch')\n",
    "plt.legend(['Train', 'Val'], loc='upper left')\n",
    "plt.show()\n",
    "\n",
    "plt.plot(history.history['loss'])\n",
    "plt.plot(history.history['val_loss'])\n",
    "plt.title('Model loss values')\n",
    "plt.ylabel('Loss')\n",
    "plt.xlabel('Epoch')\n",
    "plt.legend(['Train', 'Val'], loc='upper left')\n",
    "plt.show()"
   ]
  }
 ],
 "metadata": {
  "kernelspec": {
   "display_name": "default:Python",
   "language": "python",
   "name": "conda-env-default-py"
  },
  "language_info": {
   "codemirror_mode": {
    "name": "ipython",
    "version": 3
   },
   "file_extension": ".py",
   "mimetype": "text/x-python",
   "name": "python",
   "nbconvert_exporter": "python",
   "pygments_lexer": "ipython3",
   "version": "3.9.13"
  }
 },
 "nbformat": 4,
 "nbformat_minor": 5
}
